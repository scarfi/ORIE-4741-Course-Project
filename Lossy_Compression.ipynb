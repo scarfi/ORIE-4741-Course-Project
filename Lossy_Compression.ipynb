{
 "cells": [
  {
   "cell_type": "code",
   "execution_count": 1,
   "metadata": {
    "collapsed": false
   },
   "outputs": [
    {
     "name": "stderr",
     "output_type": "stream",
     "text": [
      "INFO: Nothing to be done\n",
      "INFO: METADATA is out-of-date — you may not have the latest version of LowRankModels\n",
      "INFO: Use `Pkg.update()` to get the latest versions of your packages\n",
      "INFO: Nothing to be done\n",
      "INFO: METADATA is out-of-date — you may not have the latest version of DataFrames\n",
      "INFO: Use `Pkg.update()` to get the latest versions of your packages\n"
     ]
    }
   ],
   "source": [
    "Pkg.add(\"LowRankModels\")\n",
    "Pkg.add(\"DataFrames\")"
   ]
  },
  {
   "cell_type": "code",
   "execution_count": 2,
   "metadata": {
    "collapsed": false
   },
   "outputs": [
    {
     "name": "stderr",
     "output_type": "stream",
     "text": [
      "INFO: Checking out LowRankModels master...\n",
      "INFO: Pulling LowRankModels latest master...\n",
      "INFO: No packages to install, update or remove\n"
     ]
    }
   ],
   "source": [
    "Pkg.checkout(\"LowRankModels\")"
   ]
  },
  {
   "cell_type": "code",
   "execution_count": 3,
   "metadata": {
    "collapsed": false
   },
   "outputs": [],
   "source": [
    "using LowRankModels\n",
    "using DataFrames\n",
    "using PyPlot"
   ]
  },
  {
   "cell_type": "markdown",
   "metadata": {},
   "source": [
    "### Load 60000 Mnist data"
   ]
  },
  {
   "cell_type": "code",
   "execution_count": 5,
   "metadata": {
    "collapsed": false
   },
   "outputs": [],
   "source": [
    "Mnist = Array(Bool, 60000, 784);"
   ]
  },
  {
   "cell_type": "code",
   "execution_count": 6,
   "metadata": {
    "collapsed": true
   },
   "outputs": [],
   "source": [
    "df = readtable(\"mnist_train_1_7500.csv\", header = false);\n",
    "Mnist1 = Array(Float64,nrow(df),ncol(df)-1)\n",
    "\n",
    "for row = 1:nrow(df)\n",
    "    for col = 2:ncol(df)\n",
    "        Mnist1[row,col-1] = df[row,col]\n",
    "    end\n",
    "end\n"
   ]
  },
  {
   "cell_type": "code",
   "execution_count": null,
   "metadata": {
    "collapsed": false
   },
   "outputs": [],
   "source": [
    "#First Image\n",
    "pic = (reshape(Mnist1[1,:],28,28))';\n",
    "\n",
    "#Plot First Image\n",
    "matshow(pic, cmap=ColorMap(\"gray\"));"
   ]
  },
  {
   "cell_type": "code",
   "execution_count": 5,
   "metadata": {
    "collapsed": false
   },
   "outputs": [],
   "source": [
    "#Use 1st 7500 images of Mnist Train set\n",
    "df = readtable(\"mnist_train_1_7500.csv\", header = false);\n",
    "Mnist1 = Array(Float64,nrow(df),ncol(df)-1)\n",
    "\n",
    "for row = 1:nrow(df)\n",
    "    for col = 2:ncol(df)\n",
    "        Mnist1[row,col-1] = df[row,col]\n",
    "    end\n",
    "end\n",
    "\n",
    "Mnist1 = round(Mnist1/255)\n",
    "Mnist1 = convert(Array{Bool}, Mnist1);"
   ]
  },
  {
   "cell_type": "code",
   "execution_count": 6,
   "metadata": {
    "collapsed": false
   },
   "outputs": [],
   "source": [
    "#Use 2nd 7500 images of Mnist Train set\n",
    "df = readtable(\"mnist_train_2_7500.csv\", header = false);\n",
    "Mnist2 = Array(Float64,nrow(df),ncol(df)-1)\n",
    "\n",
    "for row = 1:nrow(df)\n",
    "    for col = 2:ncol(df)\n",
    "        Mnist2[row,col-1] = df[row,col]\n",
    "    end\n",
    "end\n",
    "\n",
    "Mnist2 = round(Mnist2/255)\n",
    "Mnist2 = convert(Array{Bool}, Mnist2);"
   ]
  },
  {
   "cell_type": "code",
   "execution_count": 7,
   "metadata": {
    "collapsed": false
   },
   "outputs": [],
   "source": [
    "#Use 3rd 7500 images of Mnist Train set\n",
    "df = readtable(\"mnist_train_3_7500.csv\", header = false);\n",
    "Mnist3 = Array(Float64,nrow(df),ncol(df)-1)\n",
    "\n",
    "for row = 1:nrow(df)\n",
    "    for col = 2:ncol(df)\n",
    "        Mnist3[row,col-1] = df[row,col]\n",
    "    end\n",
    "end\n",
    "\n",
    "Mnist3 = round(Mnist3/255)\n",
    "Mnist3 = convert(Array{Bool}, Mnist3);"
   ]
  },
  {
   "cell_type": "code",
   "execution_count": 8,
   "metadata": {
    "collapsed": true
   },
   "outputs": [],
   "source": [
    "#Use 4th 7500 images of Mnist Train set\n",
    "df = readtable(\"mnist_train_4_7500.csv\", header = false);\n",
    "Mnist4 = Array(Float64,nrow(df),ncol(df)-1)\n",
    "\n",
    "for row = 1:nrow(df)\n",
    "    for col = 2:ncol(df)\n",
    "        Mnist4[row,col-1] = df[row,col]\n",
    "    end\n",
    "end\n",
    "\n",
    "Mnist4 = round(Mnist4/255)\n",
    "Mnist4 = convert(Array{Bool}, Mnist4);"
   ]
  },
  {
   "cell_type": "code",
   "execution_count": 9,
   "metadata": {
    "collapsed": true
   },
   "outputs": [],
   "source": [
    "#Use 5th 7500 images of Mnist Train set\n",
    "df = readtable(\"mnist_train_5_7500.csv\", header = false);\n",
    "Mnist5 = Array(Float64,nrow(df),ncol(df)-1)\n",
    "\n",
    "for row = 1:nrow(df)\n",
    "    for col = 2:ncol(df)\n",
    "        Mnist5[row,col-1] = df[row,col]\n",
    "    end\n",
    "end\n",
    "\n",
    "Mnist5 = round(Mnist5/255)\n",
    "Mnist5 = convert(Array{Bool}, Mnist5);"
   ]
  },
  {
   "cell_type": "code",
   "execution_count": 10,
   "metadata": {
    "collapsed": true
   },
   "outputs": [],
   "source": [
    "#Use 6th 7500 images of Mnist Train set\n",
    "df = readtable(\"mnist_train_6_7500.csv\", header = false);\n",
    "Mnist6 = Array(Float64,nrow(df),ncol(df)-1)\n",
    "\n",
    "for row = 1:nrow(df)\n",
    "    for col = 2:ncol(df)\n",
    "        Mnist6[row,col-1] = df[row,col]\n",
    "    end\n",
    "end\n",
    "\n",
    "Mnist6 = round(Mnist6/255)\n",
    "Mnist6 = convert(Array{Bool}, Mnist6);"
   ]
  },
  {
   "cell_type": "code",
   "execution_count": 11,
   "metadata": {
    "collapsed": true
   },
   "outputs": [],
   "source": [
    "#Use 7th 7500 images of Mnist Train set\n",
    "df = readtable(\"mnist_train_7_7500.csv\", header = false);\n",
    "Mnist7 = Array(Float64,nrow(df),ncol(df)-1)\n",
    "\n",
    "for row = 1:nrow(df)\n",
    "    for col = 2:ncol(df)\n",
    "        Mnist7[row,col-1] = df[row,col]\n",
    "    end\n",
    "end\n",
    "\n",
    "Mnist7 = round(Mnist7/255)\n",
    "Mnist7 = convert(Array{Bool}, Mnist7);"
   ]
  },
  {
   "cell_type": "code",
   "execution_count": 12,
   "metadata": {
    "collapsed": false
   },
   "outputs": [],
   "source": [
    "#Use 8th 7500 images of Mnist Train set\n",
    "df = readtable(\"mnist_train_8_7500.csv\", header = false);\n",
    "Mnist8 = Array(Float64,nrow(df),ncol(df)-1)\n",
    "\n",
    "for row = 1:nrow(df)\n",
    "    for col = 2:ncol(df)\n",
    "        Mnist8[row,col-1] = df[row,col]\n",
    "    end\n",
    "end\n",
    "\n",
    "Mnist8 = round(Mnist8/255)\n",
    "Mnist8 = convert(Array{Bool}, Mnist8);"
   ]
  },
  {
   "cell_type": "code",
   "execution_count": 13,
   "metadata": {
    "collapsed": false
   },
   "outputs": [],
   "source": [
    "Mnist[1:7500,:] = Mnist1;\n",
    "Mnist[7501:15000,:] = Mnist2;\n",
    "#Mnist[15001:22500,:] = Mnist3;\n",
    "#Mnist[22501:30000,:] = Mnist4;\n",
    "#Mnist[30001:37500,:] = Mnist5;\n",
    "#Mnist[37501:45000,:] = Mnist6;\n",
    "#Mnist[45001:52500,:] = Mnist7;\n",
    "#Mnist[52501:60000,:] = Mnist8;"
   ]
  },
  {
   "cell_type": "code",
   "execution_count": 14,
   "metadata": {
    "collapsed": false
   },
   "outputs": [
    {
     "data": {
      "image/png": "[encoded data removed]",
      "text/plain": [
       "PyPlot.Figure(PyObject <matplotlib.figure.Figure object at 0x7fcc401a36d0>)"
      ]
     },
     "metadata": {},
     "output_type": "display_data"
    }
   ],
   "source": [
    "#First Image\n",
    "pic = (reshape(Mnist[1,:],28,28))';\n",
    "\n",
    "#Plot First Image\n",
    "matshow(pic, cmap=ColorMap(\"gray\"));"
   ]
  },
  {
   "cell_type": "code",
   "execution_count": 15,
   "metadata": {
    "collapsed": false
   },
   "outputs": [],
   "source": [
    "#Fit GLRM to Data\n",
    "\n",
    "#The signature of fit! is\n",
    "\n",
    "#fit!(GLRMs, params)\n",
    "\n",
    "#Set params = ProxGradParams(maxiters=500)\n",
    "\n",
    "\n",
    "m,n,k = 15000,784,15\n",
    "losses = HingeLoss() \n",
    "params = ProxGradParams(max_iter = 500)\n",
    "rx = ZeroReg()\n",
    "ry = ZeroReg()\n",
    "glrm = GLRM(Mnist,losses,rx,ry,k);"
   ]
  },
  {
   "cell_type": "code",
   "execution_count": null,
   "metadata": {
    "collapsed": false
   },
   "outputs": [],
   "source": [
    "#Compute weights\n",
    "X,Y,ch = fit!(glrm, params);"
   ]
  },
  {
   "cell_type": "code",
   "execution_count": 1,
   "metadata": {
    "collapsed": false
   },
   "outputs": [
    {
     "data": {
      "text/plain": [
       "342528"
      ]
     },
     "execution_count": 1,
     "metadata": {},
     "output_type": "execute_result"
    }
   ],
   "source": [
    "numbers = (12*1000) + (12*784)\n",
    "numbers*16"
   ]
  },
  {
   "cell_type": "code",
   "execution_count": 67,
   "metadata": {
    "collapsed": false
   },
   "outputs": [
    {
     "data": {
      "text/html": [
       "392000.0"
      ],
      "text/plain": [
       "392000.0"
      ]
     },
     "execution_count": 67,
     "metadata": {},
     "output_type": "execute_result"
    }
   ],
   "source": [
    "binary_numbers = (784*1000)/2"
   ]
  },
  {
   "cell_type": "code",
   "execution_count": 8,
   "metadata": {
    "collapsed": false
   },
   "outputs": [],
   "source": [
    "#Recover Data\n",
    "X_16 = convert(Array{Float16}, X)\n",
    "Y_16 = convert(Array{Float16}, Y)\n",
    "\n",
    "DataLowR = X'*Y\n",
    "DataLowR = sign(DataLowR);"
   ]
  },
  {
   "cell_type": "code",
   "execution_count": 38,
   "metadata": {
    "collapsed": false
   },
   "outputs": [
    {
     "data": {
      "image/png": "[encoded data removed]",
      "text/plain": [
       "PyPlot.Figure(PyObject <matplotlib.figure.Figure object at 0x7f0990199c50>)"
      ]
     },
     "metadata": {},
     "output_type": "display_data"
    },
    {
     "data": {
      "text/plain": [
       "PyObject <matplotlib.image.AxesImage object at 0x7f098ff2bb90>"
      ]
     },
     "execution_count": 38,
     "metadata": {},
     "output_type": "execute_result"
    }
   ],
   "source": [
    "#Plot Lossy First Image\n",
    "matshow((reshape(DataLowR[300,:],28,28))', cmap=ColorMap(\"gray\"))"
   ]
  },
  {
   "cell_type": "code",
   "execution_count": 37,
   "metadata": {
    "collapsed": false
   },
   "outputs": [
    {
     "data": {
      "image/png": "[encoded data removed]",
      "text/plain": [
       "PyPlot.Figure(PyObject <matplotlib.figure.Figure object at 0x7f0990037750>)"
      ]
     },
     "metadata": {},
     "output_type": "display_data"
    },
    {
     "data": {
      "text/plain": [
       "PyObject <matplotlib.image.AxesImage object at 0x7f098ffb3bd0>"
      ]
     },
     "execution_count": 37,
     "metadata": {},
     "output_type": "execute_result"
    }
   ],
   "source": [
    "#First Image\n",
    "matshow((reshape(Mnist[300,:],28,28))', cmap=ColorMap(\"gray\"))"
   ]
  },
  {
   "cell_type": "code",
   "execution_count": 12,
   "metadata": {
    "collapsed": false
   },
   "outputs": [
    {
     "data": {
      "text/html": [
       "0.27620849130313135"
      ],
      "text/plain": [
       "0.27620849130313135"
      ]
     },
     "execution_count": 12,
     "metadata": {},
     "output_type": "execute_result"
    }
   ],
   "source": [
    "X[1,1]"
   ]
  },
  {
   "cell_type": "code",
   "execution_count": 54,
   "metadata": {
    "collapsed": false
   },
   "outputs": [
    {
     "data": {
      "text/plain": [
       "50×1000 Array{Float64,2}:\n",
       "  0.140025    0.852759    -0.543898   …   0.319702     0.9741     -0.921431 \n",
       " -1.04593     0.496095     0.0256479     -0.418934    -0.462701   -1.6753   \n",
       "  0.184914    0.308125    -0.243555       0.513866     0.483239    0.273902 \n",
       "  0.670799   -0.164262     0.580262      -1.00026     -0.654665   -0.221929 \n",
       " -0.606231    0.214761     0.209027      -1.6268      -0.399755   -1.80804  \n",
       "  1.55295    -1.08294     -0.595251   …  -1.222       -0.308477   -0.672129 \n",
       " -0.122928   -0.220621     0.401676       0.707312     0.344107    1.45842  \n",
       "  0.659707   -0.41856      0.614731      -0.693272     0.462128    0.107009 \n",
       " -0.799879    0.446269    -0.461139       1.34699     -1.50324    -0.282857 \n",
       " -0.458608   -0.551643     0.855372      -0.323823     0.42836     0.99018  \n",
       " -0.592138    0.00764481  -1.19481    …  -2.0603       0.618422   -0.738702 \n",
       " -0.586529   -0.914668    -0.309742      -0.475934    -0.0974207  -0.476629 \n",
       "  0.309943   -0.345009    -0.292523       0.306863    -0.0222622  -0.654618 \n",
       "  ⋮                                   ⋱                                     \n",
       "  0.716927    0.6815      -0.928511       0.517255     0.70032     0.328095 \n",
       "  0.36055     0.672738    -0.363937       0.621398     0.332003    1.11877  \n",
       "  0.0705004  -0.33263     -0.118111   …   1.58755      0.232476    1.33437  \n",
       " -0.879808    0.555449    -0.482513       0.0547976    1.29927    -0.0824201\n",
       "  1.16719     1.47941      0.388213       1.38698      0.902765    0.223864 \n",
       " -0.117845    1.94947     -0.214641       0.395278     1.541       0.447437 \n",
       "  0.128969   -0.829612     0.0429391      0.330459     0.310335   -0.1281   \n",
       " -2.08754     0.101103     1.0895     …   0.00373832  -0.590481   -0.452602 \n",
       " -0.190426   -0.294499    -0.497039      -0.062587    -1.22469     1.11438  \n",
       " -0.28196     0.28163     -0.87226       -0.330233    -0.433834   -0.710933 \n",
       "  0.535989   -0.4244      -0.45993       -0.384614    -0.608845   -0.139956 \n",
       "  1.28823     1.88996      0.43248        1.40254      1.14191    -0.0525725"
      ]
     },
     "execution_count": 54,
     "metadata": {},
     "output_type": "execute_result"
    }
   ],
   "source": [
    "X"
   ]
  },
  {
   "cell_type": "code",
   "execution_count": 55,
   "metadata": {
    "collapsed": false
   },
   "outputs": [
    {
     "data": {
      "text/plain": [
       "50×1000 Array{Float16,2}:\n",
       "  0.14001    0.85254    -0.54395   …   0.31982     0.97412   -0.92139 \n",
       " -1.0459     0.49609     0.02565      -0.41895    -0.46265   -1.6758  \n",
       "  0.18494    0.30811    -0.24353       0.51367     0.48315    0.27393 \n",
       "  0.6709    -0.16431     0.58008      -1.0        -0.65479   -0.22192 \n",
       " -0.60645    0.21472     0.20898      -1.627      -0.39966   -1.8076  \n",
       "  1.5527    -1.083      -0.59521   …  -1.2217     -0.30859   -0.67236 \n",
       " -0.12292   -0.22058     0.40161       0.70752     0.34399    1.458   \n",
       "  0.65967   -0.41846     0.61475      -0.69336     0.46216    0.10699 \n",
       " -0.7998     0.44629    -0.46118       1.3467     -1.5029    -0.28296 \n",
       " -0.4585    -0.55176     0.85547      -0.32373     0.42847    0.99023 \n",
       " -0.59229    0.0076447  -1.1943    …  -2.0605      0.61865   -0.73877 \n",
       " -0.58643   -0.91455    -0.30981      -0.47583    -0.097412  -0.47656 \n",
       "  0.31006   -0.34497    -0.29248       0.30688    -0.022263  -0.65479 \n",
       "  ⋮                                ⋱                                  \n",
       "  0.7168     0.68164    -0.92871       0.51709     0.7002     0.32813 \n",
       "  0.3606     0.67285    -0.36401       0.62158     0.33203    1.1191  \n",
       "  0.070496  -0.33252    -0.1181    …   1.5879      0.23242    1.334   \n",
       " -0.87988    0.55566    -0.48242       0.05481     1.2988    -0.082397\n",
       "  1.167      1.4795      0.38818       1.3867      0.90283    0.22388 \n",
       " -0.11786    1.9492     -0.2146        0.39526     1.541      0.44751 \n",
       "  0.12903   -0.82959     0.042938      0.33057     0.3103    -0.12805 \n",
       " -2.0879     0.10107     1.0898    …   0.0037384  -0.59033   -0.45264 \n",
       " -0.19043   -0.29443    -0.49707      -0.062561   -1.2246     1.1143  \n",
       " -0.28198    0.28174    -0.87207      -0.33032    -0.43384   -0.71094 \n",
       "  0.53613   -0.42432    -0.45996      -0.38452    -0.60889   -0.14001 \n",
       "  1.2881     1.8896      0.43237       1.4023      1.1416    -0.052582"
      ]
     },
     "execution_count": 55,
     "metadata": {},
     "output_type": "execute_result"
    }
   ],
   "source": []
  },
  {
   "cell_type": "code",
   "execution_count": 56,
   "metadata": {
    "collapsed": false
   },
   "outputs": [
    {
     "data": {
      "text/plain": [
       "50×784 Array{Float16,2}:\n",
       " -0.55566   -0.41528   -1.584     …  -1.6416     0.14124    -1.3291  \n",
       "  0.13354    0.77051    0.62793       0.70264    0.13062     0.71973 \n",
       "  0.27075    0.59229   -1.0566        0.35327   -0.7373      0.27686 \n",
       "  0.20801    0.58252   -0.45532       0.23767   -0.78906    -1.2539  \n",
       "  0.25952    0.63086   -0.18787       0.79297    1.0195      0.79834 \n",
       "  0.39551    0.12036    0.73389   …   0.22351    0.67432     0.86279 \n",
       " -0.2627     1.0107     0.38208      -1.2178    -1.1309      0.66797 \n",
       "  1.2402    -0.85693   -1.3428        0.12903   -0.28687    -0.88867 \n",
       " -0.20081    0.33838    0.33521      -0.46606   -0.5459     -0.54004 \n",
       "  1.3623     0.43872   -0.013008     -0.058563   0.47729    -0.51221 \n",
       "  0.54053    0.59521    1.7666    …  -0.26709    0.46924     0.44092 \n",
       "  0.64404    0.90479    0.82129      -0.46704    0.88281    -0.067078\n",
       "  1.3916    -0.19519    0.40259       1.2725    -0.94482    -0.95996 \n",
       "  ⋮                               ⋱                                  \n",
       "  0.15198    0.13379   -1.1992        0.049713   1.123      -0.23901 \n",
       "  0.025253   0.77441    0.29004       0.83008   -0.49463    -1.0869  \n",
       " -2.1465    -1.7197    -0.6543    …   0.25684   -1.4219      0.38403 \n",
       " -0.19897   -0.77148    0.5459        0.21021    0.7168     -0.30249 \n",
       " -0.90137    0.016861  -0.11548      -0.22937    0.21472    -0.9209  \n",
       " -0.90088   -2.4102     0.22253      -0.56348   -1.873      -0.82422 \n",
       " -0.56494   -0.66846   -0.58398       0.27075   -1.2188     -1.0068  \n",
       " -0.26904    0.5166     0.47876   …   0.47754    0.0038757  -0.25122 \n",
       "  0.35181   -0.5083    -0.8374        0.18506    0.067444   -0.58887 \n",
       "  1.6855     1.4111     0.19165       1.4053    -0.045959    0.61084 \n",
       " -1.0859     0.21326   -0.088623      0.63721    0.75049     0.48267 \n",
       " -1.5811    -1.4912    -1.3525       -1.9551    -1.3105     -1.5371  "
      ]
     },
     "execution_count": 56,
     "metadata": {},
     "output_type": "execute_result"
    }
   ],
   "source": []
  },
  {
   "cell_type": "code",
   "execution_count": null,
   "metadata": {
    "collapsed": true
   },
   "outputs": [],
   "source": []
  }
 ],
 "metadata": {
  "kernelspec": {
   "display_name": "Julia 0.5.0",
   "language": "julia",
   "name": "julia-0.5"
  },
  "language_info": {
   "file_extension": ".jl",
   "mimetype": "application/julia",
   "name": "julia",
   "version": "0.5.0"
  }
 },
 "nbformat": 4,
 "nbformat_minor": 1
}
